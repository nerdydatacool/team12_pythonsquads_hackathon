{
 "cells": [
  {
   "cell_type": "code",
   "execution_count": 1,
   "id": "ea4d7bf4-f36f-476f-861d-6e8daaf7a717",
   "metadata": {},
   "outputs": [],
   "source": [
    "import pandas as pd"
   ]
  },
  {
   "cell_type": "code",
   "execution_count": 3,
   "id": "66ef970b-71ea-4cb5-8c09-32ccc5d81194",
   "metadata": {},
   "outputs": [],
   "source": [
    "import numpy as np"
   ]
  },
  {
   "cell_type": "code",
   "execution_count": 5,
   "id": "e46297b9-0cad-40a3-bd68-82f297365c0c",
   "metadata": {},
   "outputs": [],
   "source": [
    "import matplotlib.pyplot as plt\n",
    "import seaborn as sns"
   ]
  },
  {
   "cell_type": "code",
   "execution_count": 7,
   "id": "14e51ff0-13a6-445e-aa95-f8637e70a317",
   "metadata": {},
   "outputs": [],
   "source": [
    "df1=pd.read_csv(r\"C:\\Users\\saran\\Downloads\\subject-info.csv\")"
   ]
  },
  {
   "cell_type": "code",
   "execution_count": 9,
   "id": "90648553-0f70-425d-97ea-23f51e52e9c0",
   "metadata": {},
   "outputs": [],
   "source": [
    "df2=pd.read_csv(r\"C:\\Users\\saran\\Downloads\\test_measure.csv\")"
   ]
  },
  {
   "cell_type": "code",
   "execution_count": 13,
   "id": "f2856ffb-d62c-444d-ba5b-17d39993a68a",
   "metadata": {},
   "outputs": [
    {
     "name": "stdout",
     "output_type": "stream",
     "text": [
      "Test with the shortest duration: 564_1, Duration: 495 seconds\n"
     ]
    }
   ],
   "source": [
    "#Identify the test name that had the shortest time duration.\n",
    "test_durations = df2.groupby(\"ID_test\")[\"time\"].max()\n",
    "shortest_test = test_durations.idxmin()\n",
    "shortest_duration = test_durations.min()\n",
    "print(f\"Test with the shortest duration: {shortest_test}, Duration: {shortest_duration} seconds\")"
   ]
  },
  {
   "cell_type": "code",
   "execution_count": null,
   "id": "ea00aa6e-2a33-4995-802a-85813ab239e3",
   "metadata": {},
   "outputs": [],
   "source": []
  }
 ],
 "metadata": {
  "kernelspec": {
   "display_name": "Python 3 (ipykernel)",
   "language": "python",
   "name": "python3"
  },
  "language_info": {
   "codemirror_mode": {
    "name": "ipython",
    "version": 3
   },
   "file_extension": ".py",
   "mimetype": "text/x-python",
   "name": "python",
   "nbconvert_exporter": "python",
   "pygments_lexer": "ipython3",
   "version": "3.12.4"
  }
 },
 "nbformat": 4,
 "nbformat_minor": 5
}
